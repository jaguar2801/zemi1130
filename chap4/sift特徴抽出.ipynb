{
 "cells": [
  {
   "cell_type": "code",
   "execution_count": 4,
   "id": "5d7a8b6a",
   "metadata": {},
   "outputs": [],
   "source": [
    "import numpy as np\n",
    "import matplotlib.pyplot as plt\n",
    "import os\n",
    "from PIL import Image\n",
    "from scipy.ndimage import filters\n",
    "import cv2\n",
    "%matplotlib inline"
   ]
  },
  {
   "cell_type": "code",
   "execution_count": 60,
   "id": "4b615437",
   "metadata": {},
   "outputs": [],
   "source": [
    "# SIFT特徴量計算のためのモジュール\n",
    "import sift"
   ]
  },
  {
   "cell_type": "code",
   "execution_count": 45,
   "id": "82004067",
   "metadata": {},
   "outputs": [],
   "source": [
    "img = cv2.imread('images/zemikadai1130.jpeg')\n",
    "sift = cv2.xfeatures2d.SIFT_create()\n",
    "keypoints, descriptors = sift.detectAndCompute(img, None)\n",
    "img_sift = cv2.drawKeypoints(img, keypoints, None, flags=4)\n",
    "\n",
    "locs=[]\n",
    "for i in range(len(keypoints)):\n",
    "    locs.append([keypoints[i].pt[0],keypoints[i].pt[1],keypoints[i].response,keypoints[i].size])\n",
    "locs=np.array(locs)"
   ]
  },
  {
   "cell_type": "code",
   "execution_count": 67,
   "id": "dcf1b891",
   "metadata": {},
   "outputs": [],
   "source": [
    "def write_features_to_file(filename,locs,desc):\n",
    "    \"\"\" Save feature location and descriptor to file. \"\"\"\n",
    "    np.savetxt(filename,np.hstack((locs,desc)))"
   ]
  },
  {
   "cell_type": "code",
   "execution_count": 43,
   "id": "a6320c21",
   "metadata": {},
   "outputs": [
    {
     "data": {
      "text/plain": [
       "2.175673246383667"
      ]
     },
     "execution_count": 43,
     "metadata": {},
     "output_type": "execute_result"
    }
   ],
   "source": [
    "keypoints[0].pt[0]\n",
    "keypoints[0].pt[1]\n",
    "keypoints[0].response\n",
    "keypoints[0].size"
   ]
  },
  {
   "cell_type": "code",
   "execution_count": 62,
   "id": "3f0eff6e",
   "metadata": {},
   "outputs": [],
   "source": [
    "filename='images/zemikadai1130'+'.sift'write_features_to_file(filename,locs,descriptors)"
   ]
  },
  {
   "cell_type": "code",
   "execution_count": 36,
   "id": "68d19727",
   "metadata": {},
   "outputs": [],
   "source": [
    "l=[keypoints[0].pt[0],keypoints[0].pt[1],keypoints[0].response,keypoints[0].size]\n",
    "for i in descriptors[0]:\n",
    "    l.append(i)"
   ]
  },
  {
   "cell_type": "code",
   "execution_count": 68,
   "id": "54f1b31f",
   "metadata": {},
   "outputs": [],
   "source": [
    "img = cv2.imread('images/zemikadai1130_2.jpeg')\n",
    "sift = cv2.xfeatures2d.SIFT_create()\n",
    "keypoints, descriptors = sift.detectAndCompute(img, None)\n",
    "img_sift = cv2.drawKeypoints(img, keypoints, None, flags=4)\n",
    "\n",
    "locs=[]\n",
    "for i in range(len(keypoints)):\n",
    "    locs.append([keypoints[i].pt[0],keypoints[i].pt[1],keypoints[i].response,keypoints[i].size])\n",
    "locs=np.array(locs)\n",
    "filename='images/zemikadai1130_2'+'.sift'\n",
    "write_features_to_file(filename,locs,descriptors)"
   ]
  },
  {
   "cell_type": "code",
   "execution_count": null,
   "id": "8142f0cb",
   "metadata": {},
   "outputs": [],
   "source": []
  }
 ],
 "metadata": {
  "kernelspec": {
   "display_name": "Python 3 (ipykernel)",
   "language": "python",
   "name": "python3"
  },
  "language_info": {
   "codemirror_mode": {
    "name": "ipython",
    "version": 3
   },
   "file_extension": ".py",
   "mimetype": "text/x-python",
   "name": "python",
   "nbconvert_exporter": "python",
   "pygments_lexer": "ipython3",
   "version": "3.9.7"
  }
 },
 "nbformat": 4,
 "nbformat_minor": 5
}
